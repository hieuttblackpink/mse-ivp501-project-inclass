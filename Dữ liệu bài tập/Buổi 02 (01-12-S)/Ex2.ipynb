{
 "cells": [
  {
   "cell_type": "markdown",
   "metadata": {},
   "source": [
    "# Excercise 2"
   ]
  },
  {
   "cell_type": "code",
   "execution_count": null,
   "metadata": {},
   "outputs": [],
   "source": [
    "import cv2\n",
    "import matplotlib.pyplot as plt\n",
    "import numpy as np\n",
    "\n",
    "FS = 15 #Fontsize of caption"
   ]
  },
  {
   "cell_type": "markdown",
   "metadata": {},
   "source": [
    "## 2.1 Read and Write an image"
   ]
  },
  {
   "cell_type": "code",
   "execution_count": null,
   "metadata": {},
   "outputs": [],
   "source": [
    "#Read the image test\n",
    "img = cv2.imread('nature_default.jpg')\n",
    "img_rgb = cv2.cvtColor(img, cv2.COLOR_BGR2RGB) #Convert to RGB \n",
    "img_grayscale = cv2.cvtColor(img_rgb, cv2.COLOR_RGB2GRAY) #Convert to grayscale\n",
    "\n",
    "_, img_bw = cv2.threshold(img_grayscale, 127, 255, cv2.THRESH_BINARY) #Convert to binary with threshhold at 50%\n",
    "\n",
    "#Plot images\n",
    "plt.figure(figsize = (15, 5))\n",
    "plt.subplot(1, 3, 1)\n",
    "plt.imshow(img_rgb)\n",
    "plt.title('Original image', fontsize = FS)\n",
    "plt.axis('off')\n",
    "\n",
    "plt.subplot(1, 3, 2)\n",
    "plt.imshow(img_grayscale, cmap = 'gray')\n",
    "plt.title('Grayscale image', fontsize = FS)\n",
    "plt.axis('off')\n",
    "\n",
    "plt.subplot(1, 3, 3)\n",
    "plt.imshow(img_bw, cmap = 'gray')\n",
    "plt.title('Binary image', fontsize = FS)\n",
    "plt.axis('off')\n",
    "\n",
    "#Save figure\n",
    "plt.savefig('Image Representations.png', bbox_inches = 'tight')\n",
    "\n",
    "#Save the origin image with different qualities\n",
    "cv2.imwrite('nature_100.jpg', img = img, params = [cv2.IMWRITE_JPEG_QUALITY, 100])\n",
    "cv2.imwrite('nature_75.jpg', img = img, params = [cv2.IMWRITE_JPEG_QUALITY, 75])\n",
    "cv2.imwrite('nature_10.jpg', img = img, params = [cv2.IMWRITE_JPEG_QUALITY, 10])\n"
   ]
  },
  {
   "cell_type": "markdown",
   "metadata": {},
   "source": [
    "## 2.2 Quantization"
   ]
  },
  {
   "cell_type": "code",
   "execution_count": null,
   "metadata": {},
   "outputs": [],
   "source": [
    "#Read the image test\n",
    "img = cv2.imread('tiger.jpg', cv2.IMREAD_GRAYSCALE) #Load image as grayscale\n",
    "img = img.astype(np.float64) #Convert to float to computation\n",
    "\n",
    "plt.figure(figsize = (12, 6))\n",
    "\n",
    "for num_of_bit in range(1, 9):\n",
    "    #Quantize to a given number of bit(s)\n",
    "    num_of_level = 2 ** num_of_bit\n",
    "    level_gap = 256 / num_of_level\n",
    "    quantized_img = (np.ceil(img / level_gap) * level_gap - 1).clip(0, 255).astype(np.uint8)\n",
    "\n",
    "    #Plot image\n",
    "    plt.subplot(2, 4, num_of_bit)\n",
    "    plt.imshow(quantized_img, cmap = 'gray')\n",
    "\n",
    "    #Image caption\n",
    "    title = f\"{num_of_bit}-bit{'s' if num_of_bit > 1 else ''}\"\n",
    "    plt.title(title, fontsize = FS)\n",
    "    plt.axis('off')\n",
    "\n",
    "    #Save image\n",
    "    cv2.imwrite(f'Quantization_in_{title}.jpg', img = quantized_img)\n",
    "\n",
    "#Display plot\n",
    "plt.tight_layout()\n",
    "plt.show()"
   ]
  },
  {
   "cell_type": "markdown",
   "metadata": {},
   "source": [
    "## 2.3 Brightness adjustment"
   ]
  },
  {
   "cell_type": "code",
   "execution_count": null,
   "metadata": {},
   "outputs": [],
   "source": [
    "#Read the image test\n",
    "img = cv2.imread('tiger.jpg', cv2.IMREAD_GRAYSCALE) #Load image as grayscale\n",
    "img = img.astype(np.float64) #Convert to float to computation\n",
    "\n",
    "#Brightness adjustment by an intansity sealling\n",
    "scale = 3 #Scale = 1.0 -> unchange. Scale < 1 -> darker. Scale > 1 -> brighter\n",
    "scaled_img = img * scale\n",
    "scaled_img = np.clip(scaled_img, 0, 255).astype(np.uint8)\n",
    "\n",
    "plt.figure(figsize = (12, 6))\n",
    "\n",
    "#Plot image\n",
    "plt.subplot(1, 2, 1)\n",
    "plt.imshow(img, cmap = 'gray')\n",
    "plt.title('Original image', fontsize = FS)\n",
    "plt.axis('off')\n",
    "\n",
    "plt.subplot(1, 2, 2)\n",
    "plt.imshow(scaled_img, cmap = 'gray')\n",
    "plt.title('Scaled image', fontsize = FS)\n",
    "plt.axis('off')"
   ]
  },
  {
   "cell_type": "markdown",
   "metadata": {},
   "source": [
    "## 2.4 Contrast enhancement"
   ]
  },
  {
   "cell_type": "code",
   "execution_count": null,
   "metadata": {},
   "outputs": [],
   "source": [
    "#Read the image test\n",
    "img = cv2.imread('waterfall.jpg') #Load image in BGR format\n",
    "img_normalized = img / 255.0 #Normalize to [0, 1]\n",
    "\n",
    "gamma = 0.5 #Gamma = 1.0 -> unchange. Gamma < 1 -> decrease. Gamma > 1 -> increase\n",
    "#enhanced_img = np.power(img_normalized, gamma)\n",
    "enhanced_img = img_normalized * gamma\n",
    "\n",
    "#Convert enhanced image back to [0, 255] range for saving\n",
    "enhanced_img_uint8 = (enhanced_img * 255).clip(0, 255).astype(np.uint8)\n",
    "\n",
    "plt.figure(figsize = (10, 5))\n",
    "\n",
    "#Plot image\n",
    "plt.subplot(1, 2, 1)\n",
    "plt.imshow(cv2.cvtColor(img, cv2.COLOR_BGR2RGB))\n",
    "plt.title('Original image', fontsize = FS)\n",
    "plt.axis('off')\n",
    "\n",
    "plt.subplot(1, 2, 2)\n",
    "plt.imshow(cv2.cvtColor(enhanced_img_uint8, cv2.COLOR_BGR2RGB))\n",
    "plt.title('Contrast enhancement', fontsize = FS)\n",
    "plt.axis('off')\n",
    "\n",
    "plt.tight_layout()\n",
    "plt.show()\n",
    "\n",
    "cv2.imwrite('enhanced_waterfall.jpg', enhanced_img_uint8)"
   ]
  },
  {
   "cell_type": "markdown",
   "metadata": {},
   "source": [
    "## 2.5 Brightness adjustment for color image"
   ]
  },
  {
   "cell_type": "code",
   "execution_count": null,
   "metadata": {},
   "outputs": [],
   "source": [
    "#Read the image test\n",
    "img = cv2.imread('sunset.jpg') #Load image in BGR format\n",
    "\n",
    "#Brighten all 3 layers RGB\n",
    "brighten_img = img.copy()\n",
    "brighten_img[:, :, 2] = cv2.add(img[:, :, 2], 100) #Red component\n",
    "brighten_img[:, :, 1] = cv2.add(img[:, :, 1], 175) #Grenn component\n",
    "brighten_img[:, :, 0] = cv2.add(img[:, :, 0], 225) #Blue component\n",
    "\n",
    "#Darken all 3 layers RGB\n",
    "darken_img = img.copy()\n",
    "darken_img[:, :, 2] = cv2.subtract(img[:, :, 2], 120) #Red component\n",
    "darken_img[:, :, 1] = cv2.subtract(img[:, :, 1], 80) #Grenn component\n",
    "darken_img[:, :, 0] = cv2.subtract(img[:, :, 0], 40) #Blue component\n",
    "\n",
    "plt.figure(figsize = (15, 5))\n",
    "\n",
    "#Plot image\n",
    "plt.subplot(1, 3, 1)\n",
    "plt.imshow(cv2.cvtColor(img, cv2.COLOR_BGR2RGB))\n",
    "plt.title('Original image', fontsize = FS)\n",
    "plt.axis('off')\n",
    "\n",
    "plt.subplot(1, 3, 2)\n",
    "plt.imshow(cv2.cvtColor(brighten_img, cv2.COLOR_BGR2RGB))\n",
    "plt.title('Brighten 3-layer image', fontsize = FS)\n",
    "plt.axis('off')\n",
    "\n",
    "plt.subplot(1, 3, 3)\n",
    "plt.imshow(cv2.cvtColor(darken_img, cv2.COLOR_BGR2RGB))\n",
    "plt.title('Darken 3-layer image', fontsize = FS)\n",
    "plt.axis('off')"
   ]
  }
 ],
 "metadata": {
  "kernelspec": {
   "display_name": "Python 3",
   "language": "python",
   "name": "python3"
  },
  "language_info": {
   "codemirror_mode": {
    "name": "ipython",
    "version": 3
   },
   "file_extension": ".py",
   "mimetype": "text/x-python",
   "name": "python",
   "nbconvert_exporter": "python",
   "pygments_lexer": "ipython3",
   "version": "3.12.6"
  }
 },
 "nbformat": 4,
 "nbformat_minor": 2
}
