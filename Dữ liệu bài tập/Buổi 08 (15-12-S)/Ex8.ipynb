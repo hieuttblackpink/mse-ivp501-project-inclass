{
 "cells": [
  {
   "cell_type": "markdown",
   "metadata": {},
   "source": [
    "# Exercise 8"
   ]
  },
  {
   "cell_type": "code",
   "execution_count": 3,
   "metadata": {},
   "outputs": [],
   "source": [
    "import cv2\n",
    "import matplotlib.pyplot as plt\n",
    "import numpy as np\n",
    "from skimage.morphology import disk\n",
    "from skimage.measure import label\n",
    "from skimage.color import label2rgb\n",
    "from skimage.filters import threshold_otsu\n",
    "\n",
    "FS = 15 # Fontsize of caption"
   ]
  },
  {
   "cell_type": "markdown",
   "metadata": {},
   "source": [
    "## 8.1 Grayscale edge detector"
   ]
  },
  {
   "cell_type": "code",
   "execution_count": null,
   "metadata": {},
   "outputs": [],
   "source": [
    "# Load the image in grayscale\n",
    "I = cv2.imread('bike.png', cv2.IMREAD_GRAYSCALE)\n",
    "\n",
    "# Normalize the image to 0-1\n",
    "I = I.astype(np.float32) / 255.0\n",
    "\n",
    "# Define the structuring element (rectangle with size 4x5)\n",
    "kernel = cv2.getStructuringElement(cv2.MORPH_RECT, (5, 4))\n",
    "\n",
    "# Perform dilation on the original image\n",
    "I_dilated = cv2.dilate(I, kernel)\n",
    "\n",
    "# Perform edge detection by subtracting the original image from the dilated image\n",
    "edge = I_dilated - I\n",
    "\n",
    "# Threshold to convert to binary image\n",
    "BW = edge > 0.2  # 0.2 is the threshold value\n",
    "\n",
    "# Show images\n",
    "plt.figure(figsize = (10, 10))\n",
    "\n",
    "plt.subplot(2, 2, 1)\n",
    "plt.imshow(I, cmap = 'gray')\n",
    "plt.title('Original Image', fontsize = FS)\n",
    "\n",
    "plt.subplot(2, 2, 2)\n",
    "plt.imshow(I_dilated, cmap = 'gray')\n",
    "plt.title('Dilated Image', fontsize = FS)\n",
    "\n",
    "plt.subplot(2, 2, 3)\n",
    "plt.imshow(edge, cmap = 'gray')\n",
    "plt.title('Edge = Dilation - Origin', fontsize = FS)\n",
    "\n",
    "plt.subplot(2, 2, 4)\n",
    "plt.imshow(BW, cmap = 'gray')\n",
    "plt.title('BW of Edge', fontsize = FS)\n",
    "\n",
    "plt.tight_layout()\n",
    "plt.show()\n"
   ]
  },
  {
   "cell_type": "markdown",
   "metadata": {},
   "source": [
    "## 8.2 Coins couting using dilation"
   ]
  },
  {
   "cell_type": "code",
   "execution_count": 4,
   "metadata": {},
   "outputs": [
    {
     "ename": "KeyError",
     "evalue": "'j'",
     "output_type": "error",
     "traceback": [
      "\u001b[0;31m---------------------------------------------------------------------------\u001b[0m",
      "\u001b[0;31mKeyError\u001b[0m                                  Traceback (most recent call last)",
      "\u001b[1;32m/Users/hieutt/Library/CloudStorage/OneDrive-Personal/MSE - FPT/Fall 2024/IVP501/Project/In-class/Dữ liệu bài tập/Buổi 08 (15-12-S)/Ex8.ipynb Cell 6\u001b[0m line \u001b[0;36m1\n\u001b[1;32m      <a href='vscode-notebook-cell:/Users/hieutt/Library/CloudStorage/OneDrive-Personal/MSE%20-%20FPT/Fall%202024/IVP501/Project/In-class/D%E1%BB%AF%20li%E1%BB%87u%20b%C3%A0i%20t%E1%BA%ADp/Bu%E1%BB%95i%2008%20%2815-12-S%29/Ex8.ipynb#W5sZmlsZQ%3D%3D?line=8'>9</a>\u001b[0m L \u001b[39m=\u001b[39m label(BW, connectivity \u001b[39m=\u001b[39m \u001b[39m2\u001b[39m)  \u001b[39m# Label connected components\u001b[39;00m\n\u001b[1;32m     <a href='vscode-notebook-cell:/Users/hieutt/Library/CloudStorage/OneDrive-Personal/MSE%20-%20FPT/Fall%202024/IVP501/Project/In-class/D%E1%BB%AF%20li%E1%BB%87u%20b%C3%A0i%20t%E1%BA%ADp/Bu%E1%BB%95i%2008%20%2815-12-S%29/Ex8.ipynb#W5sZmlsZQ%3D%3D?line=9'>10</a>\u001b[0m obj \u001b[39m=\u001b[39m np\u001b[39m.\u001b[39mmax(L)  \u001b[39m# Number of objects\u001b[39;00m\n\u001b[0;32m---> <a href='vscode-notebook-cell:/Users/hieutt/Library/CloudStorage/OneDrive-Personal/MSE%20-%20FPT/Fall%202024/IVP501/Project/In-class/D%E1%BB%AF%20li%E1%BB%87u%20b%C3%A0i%20t%E1%BA%ADp/Bu%E1%BB%95i%2008%20%2815-12-S%29/Ex8.ipynb#W5sZmlsZQ%3D%3D?line=10'>11</a>\u001b[0m rgbLabel1 \u001b[39m=\u001b[39m label2rgb(L, bg_label \u001b[39m=\u001b[39;49m \u001b[39m0\u001b[39;49m, bg_color \u001b[39m=\u001b[39;49m (\u001b[39m0\u001b[39;49m, \u001b[39m0\u001b[39;49m, \u001b[39m0\u001b[39;49m), colors \u001b[39m=\u001b[39;49m \u001b[39m'\u001b[39;49m\u001b[39mjet\u001b[39;49m\u001b[39m'\u001b[39;49m)\n\u001b[1;32m     <a href='vscode-notebook-cell:/Users/hieutt/Library/CloudStorage/OneDrive-Personal/MSE%20-%20FPT/Fall%202024/IVP501/Project/In-class/D%E1%BB%AF%20li%E1%BB%87u%20b%C3%A0i%20t%E1%BA%ADp/Bu%E1%BB%95i%2008%20%2815-12-S%29/Ex8.ipynb#W5sZmlsZQ%3D%3D?line=11'>12</a>\u001b[0m \u001b[39mprint\u001b[39m(\u001b[39mf\u001b[39m\u001b[39m\"\u001b[39m\u001b[39mNumber of coins before dilation: \u001b[39m\u001b[39m{\u001b[39;00mobj\u001b[39m}\u001b[39;00m\u001b[39m\"\u001b[39m)\n\u001b[1;32m     <a href='vscode-notebook-cell:/Users/hieutt/Library/CloudStorage/OneDrive-Personal/MSE%20-%20FPT/Fall%202024/IVP501/Project/In-class/D%E1%BB%AF%20li%E1%BB%87u%20b%C3%A0i%20t%E1%BA%ADp/Bu%E1%BB%95i%2008%20%2815-12-S%29/Ex8.ipynb#W5sZmlsZQ%3D%3D?line=13'>14</a>\u001b[0m \u001b[39m# b. With dilation\u001b[39;00m\n",
      "File \u001b[0;32m/Library/Frameworks/Python.framework/Versions/3.12/lib/python3.12/site-packages/skimage/color/colorlabel.py:149\u001b[0m, in \u001b[0;36mlabel2rgb\u001b[0;34m(label, image, colors, alpha, bg_label, bg_color, image_alpha, kind, saturation, channel_axis)\u001b[0m\n\u001b[1;32m    147\u001b[0m     image \u001b[39m=\u001b[39m np\u001b[39m.\u001b[39mmoveaxis(image, source\u001b[39m=\u001b[39mchannel_axis, destination\u001b[39m=\u001b[39m\u001b[39m-\u001b[39m\u001b[39m1\u001b[39m)\n\u001b[1;32m    148\u001b[0m \u001b[39mif\u001b[39;00m kind \u001b[39m==\u001b[39m \u001b[39m'\u001b[39m\u001b[39moverlay\u001b[39m\u001b[39m'\u001b[39m:\n\u001b[0;32m--> 149\u001b[0m     rgb \u001b[39m=\u001b[39m _label2rgb_overlay(\n\u001b[1;32m    150\u001b[0m         label, image, colors, alpha, bg_label, bg_color, image_alpha, saturation\n\u001b[1;32m    151\u001b[0m     )\n\u001b[1;32m    152\u001b[0m \u001b[39melif\u001b[39;00m kind \u001b[39m==\u001b[39m \u001b[39m'\u001b[39m\u001b[39mavg\u001b[39m\u001b[39m'\u001b[39m:\n\u001b[1;32m    153\u001b[0m     rgb \u001b[39m=\u001b[39m _label2rgb_avg(label, image, bg_label, bg_color)\n",
      "File \u001b[0;32m/Library/Frameworks/Python.framework/Versions/3.12/lib/python3.12/site-packages/skimage/color/colorlabel.py:208\u001b[0m, in \u001b[0;36m_label2rgb_overlay\u001b[0;34m(label, image, colors, alpha, bg_label, bg_color, image_alpha, saturation)\u001b[0m\n\u001b[1;32m    206\u001b[0m \u001b[39mif\u001b[39;00m colors \u001b[39mis\u001b[39;00m \u001b[39mNone\u001b[39;00m:\n\u001b[1;32m    207\u001b[0m     colors \u001b[39m=\u001b[39m DEFAULT_COLORS\n\u001b[0;32m--> 208\u001b[0m colors \u001b[39m=\u001b[39m [_rgb_vector(c) \u001b[39mfor\u001b[39;00m c \u001b[39min\u001b[39;00m colors]\n\u001b[1;32m    210\u001b[0m \u001b[39mif\u001b[39;00m image \u001b[39mis\u001b[39;00m \u001b[39mNone\u001b[39;00m:\n\u001b[1;32m    211\u001b[0m     image \u001b[39m=\u001b[39m np\u001b[39m.\u001b[39mzeros(label\u001b[39m.\u001b[39mshape \u001b[39m+\u001b[39m (\u001b[39m3\u001b[39m,), dtype\u001b[39m=\u001b[39mnp\u001b[39m.\u001b[39mfloat64)\n",
      "File \u001b[0;32m/Library/Frameworks/Python.framework/Versions/3.12/lib/python3.12/site-packages/skimage/color/colorlabel.py:43\u001b[0m, in \u001b[0;36m_rgb_vector\u001b[0;34m(color)\u001b[0m\n\u001b[1;32m     32\u001b[0m \u001b[39m\u001b[39m\u001b[39m\"\"\"Return RGB color as (1, 3) array.\u001b[39;00m\n\u001b[1;32m     33\u001b[0m \n\u001b[1;32m     34\u001b[0m \u001b[39mThis RGB array gets multiplied by masked regions of an RGB image, which are\u001b[39;00m\n\u001b[0;32m   (...)\u001b[0m\n\u001b[1;32m     40\u001b[0m \u001b[39m    Color name in ``skimage.color.color_dict`` or RGB float values between [0, 1].\u001b[39;00m\n\u001b[1;32m     41\u001b[0m \u001b[39m\"\"\"\u001b[39;00m\n\u001b[1;32m     42\u001b[0m \u001b[39mif\u001b[39;00m \u001b[39misinstance\u001b[39m(color, \u001b[39mstr\u001b[39m):\n\u001b[0;32m---> 43\u001b[0m     color \u001b[39m=\u001b[39m color_dict[color]\n\u001b[1;32m     44\u001b[0m \u001b[39m# Slice to handle RGBA colors.\u001b[39;00m\n\u001b[1;32m     45\u001b[0m \u001b[39mreturn\u001b[39;00m np\u001b[39m.\u001b[39marray(color[:\u001b[39m3\u001b[39m])\n",
      "\u001b[0;31mKeyError\u001b[0m: 'j'"
     ]
    }
   ],
   "source": [
    "# Load the input image\n",
    "I = cv2.imread('coins.png', cv2.IMREAD_GRAYSCALE)\n",
    "\n",
    "# Threshold the image to create a binary mask\n",
    "level = threshold_otsu(I)  # Otsu's method for thresholding\n",
    "BW = 1 - (I > level).astype(np.uint8)  # Convert to binary and invert colors\n",
    "\n",
    "# a. Without dilation\n",
    "L = label(BW, connectivity = 2)  # Label connected components\n",
    "obj = np.max(L)  # Number of objects\n",
    "rgbLabel1 = label2rgb(L, bg_label = 0, bg_color = (0, 0, 0), colors = 'jet')\n",
    "print(f\"Number of coins before dilation: {obj}\")\n",
    "\n",
    "# b. With dilation\n",
    "se = disk(25)  # Create a disk-shaped structuring element with radius 25\n",
    "BW_dilated = 1 - cv2.dilate((I > level).astype(np.uint8), se.astype(np.uint8))\n",
    "\n",
    "L2 = label(BW_dilated, connectivity=2)  # Label connected components\n",
    "obj2 = np.max(L2)  # Number of objects after dilation\n",
    "rgbLabel2 = label2rgb(L2, bg_label = 0, bg_color = (0, 0, 0), colors = 'jet')\n",
    "print(f\"Number of coins after dilation: {obj2}\")\n",
    "\n",
    "# Show the images\n",
    "plt.figure(figsize=(10, 10))\n",
    "\n",
    "plt.subplot(2, 2, 1)\n",
    "plt.imshow(I, cmap='gray')\n",
    "plt.title('Original Image', fontsize=FS)\n",
    "\n",
    "plt.subplot(2, 2, 2)\n",
    "plt.imshow(BW, cmap='gray')\n",
    "plt.title('Binary Image', fontsize=FS)\n",
    "\n",
    "plt.subplot(2, 2, 3)\n",
    "plt.imshow(rgbLabel1)\n",
    "plt.title('Labeling Before Dilation', fontsize=FS)\n",
    "\n",
    "plt.subplot(2, 2, 4)\n",
    "plt.imshow(rgbLabel2)\n",
    "plt.title('Labeling After Dilation', fontsize=FS)\n",
    "\n",
    "plt.tight_layout()\n",
    "plt.show()\n"
   ]
  }
 ],
 "metadata": {
  "kernelspec": {
   "display_name": "Python 3",
   "language": "python",
   "name": "python3"
  },
  "language_info": {
   "codemirror_mode": {
    "name": "ipython",
    "version": 3
   },
   "file_extension": ".py",
   "mimetype": "text/x-python",
   "name": "python",
   "nbconvert_exporter": "python",
   "pygments_lexer": "ipython3",
   "version": "3.12.6"
  }
 },
 "nbformat": 4,
 "nbformat_minor": 2
}
