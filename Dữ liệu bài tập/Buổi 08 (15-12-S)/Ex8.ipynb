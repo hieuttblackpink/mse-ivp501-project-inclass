{
 "cells": [
  {
   "cell_type": "markdown",
   "metadata": {},
   "source": [
    "# Exercise 8"
   ]
  },
  {
   "cell_type": "code",
   "execution_count": null,
   "metadata": {},
   "outputs": [],
   "source": [
    "import cv2\n",
    "import matplotlib.pyplot as plt\n",
    "import numpy as np\n",
    "\n",
    "FS = 15 # Fontsize of caption"
   ]
  },
  {
   "cell_type": "markdown",
   "metadata": {},
   "source": [
    "## 8.1 Grayscale edge detector"
   ]
  },
  {
   "cell_type": "code",
   "execution_count": null,
   "metadata": {},
   "outputs": [],
   "source": [
    "# Load the image in grayscale\n",
    "I = cv2.imread('bike.png', cv2.IMREAD_GRAYSCALE)\n",
    "\n",
    "# Normalize the image to 0-1\n",
    "I = I.astype(np.float32) / 255.0\n",
    "\n",
    "# Define the structuring element (rectangle with size 4x5)\n",
    "kernel = cv2.getStructuringElement(cv2.MORPH_RECT, (5, 4))\n",
    "\n",
    "# Perform dilation on the original image\n",
    "I_dilated = cv2.dilate(I, kernel)\n",
    "\n",
    "# Perform edge detection by subtracting the original image from the dilated image\n",
    "edge = I_dilated - I\n",
    "\n",
    "# Threshold to convert to binary image\n",
    "BW = edge > 0.2  # 0.2 is the threshold value\n",
    "\n",
    "# Show images\n",
    "plt.figure(figsize = (10, 10))\n",
    "\n",
    "plt.subplot(2, 2, 1)\n",
    "plt.imshow(I, cmap = 'gray')\n",
    "plt.title('Original Image', fontsize = FS)\n",
    "\n",
    "plt.subplot(2, 2, 2)\n",
    "plt.imshow(I_dilated, cmap = 'gray')\n",
    "plt.title('Dilated Image', fontsize = FS)\n",
    "\n",
    "plt.subplot(2, 2, 3)\n",
    "plt.imshow(edge, cmap = 'gray')\n",
    "plt.title('Edge = Dilation - Origin', fontsize = FS)\n",
    "\n",
    "plt.subplot(2, 2, 4)\n",
    "plt.imshow(BW, cmap = 'gray')\n",
    "plt.title('BW of Edge', fontsize = FS)\n",
    "\n",
    "plt.tight_layout()\n",
    "plt.show()\n"
   ]
  }
 ],
 "metadata": {
  "kernelspec": {
   "display_name": "Python 3",
   "language": "python",
   "name": "python3"
  },
  "language_info": {
   "codemirror_mode": {
    "name": "ipython",
    "version": 3
   },
   "file_extension": ".py",
   "mimetype": "text/x-python",
   "name": "python",
   "nbconvert_exporter": "python",
   "pygments_lexer": "ipython3",
   "version": "3.12.6"
  }
 },
 "nbformat": 4,
 "nbformat_minor": 2
}
