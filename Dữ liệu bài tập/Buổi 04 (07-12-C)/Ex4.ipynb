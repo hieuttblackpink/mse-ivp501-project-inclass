{
 "cells": [
  {
   "cell_type": "markdown",
   "metadata": {},
   "source": [
    "# Exercise 4"
   ]
  },
  {
   "cell_type": "code",
   "execution_count": null,
   "metadata": {},
   "outputs": [],
   "source": [
    "import cv2\n",
    "import matplotlib.pyplot as plt\n",
    "import numpy as np\n",
    "\n",
    "FS = 15 # Fontsize of caption"
   ]
  },
  {
   "cell_type": "markdown",
   "metadata": {},
   "source": [
    "## 4.1 Gray-Level transformations"
   ]
  },
  {
   "cell_type": "code",
   "execution_count": null,
   "metadata": {},
   "outputs": [],
   "source": [
    "# Read the image test\n",
    "img = cv2.imread('lion.jpg')"
   ]
  },
  {
   "cell_type": "markdown",
   "metadata": {},
   "source": [
    "### 4.1.1 Indetity transformations"
   ]
  },
  {
   "cell_type": "code",
   "execution_count": null,
   "metadata": {},
   "outputs": [],
   "source": [
    "# Create an identity Look-Up Table (LUT)\n",
    "identity_lut = np.arange(256, dtype = np.uint8)\n",
    "\n",
    "# Apply the identity LUT to the image\n",
    "identity_image = cv2.LUT(img, identity_lut)\n",
    "\n",
    "# Plot the transformation function (LUT)\n",
    "plt.figure(figsize = (6, 6))\n",
    "plt.plot(identity_lut, linewidth = 1.5)\n",
    "plt.title('Identity Transformation Function', fontsize = FS)\n",
    "plt.xlim([0, 255])\n",
    "plt.ylim([0, 255])\n",
    "plt.grid(True)\n",
    "plt.xlabel('Input Intensity')\n",
    "plt.ylabel('Output Intensity')\n",
    "plt.axis('square')\n",
    "plt.show()\n",
    "\n",
    "# Display the original and transformed images\n",
    "plt.figure(figsize = (10, 5))\n",
    "plt.subplot(1, 2, 1)\n",
    "plt.imshow(img)\n",
    "plt.title('Original Image', fontsize = FS)\n",
    "plt.axis('off')\n",
    "\n",
    "plt.subplot(1, 2, 2)\n",
    "plt.imshow(identity_image)\n",
    "plt.title('Identity Transformation', fontsize = FS)\n",
    "plt.axis('off')\n",
    "\n",
    "plt.tight_layout()\n",
    "plt.show()"
   ]
  },
  {
   "cell_type": "markdown",
   "metadata": {},
   "source": [
    "### 4.1.2 Negative transformations"
   ]
  },
  {
   "cell_type": "code",
   "execution_count": null,
   "metadata": {},
   "outputs": [],
   "source": [
    "# Create an negative Look-Up Table (LUT)\n",
    "negative_lut = np.arange(256, dtype = np.uint8)\n",
    "negative_lut = negative_lut[::-1]\n",
    "\n",
    "# Apply the negative LUT to the image\n",
    "negative_image = cv2.LUT(img, negative_lut)\n",
    "\n",
    "# Plot the transformation function (LUT)\n",
    "plt.figure(figsize = (6, 6))\n",
    "plt.plot(negative_lut, linewidth = 1.5)\n",
    "plt.title('Negative Transformation Function', fontsize = FS)\n",
    "plt.xlim([0, 255])\n",
    "plt.ylim([0, 255])\n",
    "plt.grid(True)\n",
    "plt.xlabel('Input Intensity')\n",
    "plt.ylabel('Output Intensity')\n",
    "plt.axis('square')\n",
    "plt.show()\n",
    "\n",
    "# Display the original and transformed images\n",
    "plt.figure(figsize = (10, 5))\n",
    "plt.subplot(1, 2, 1)\n",
    "plt.imshow(img)\n",
    "plt.title('Original Image', fontsize = FS)\n",
    "plt.axis('off')\n",
    "\n",
    "plt.subplot(1, 2, 2)\n",
    "plt.imshow(negative_image)\n",
    "plt.title('Negative Transformation', fontsize = FS)\n",
    "plt.axis('off')\n",
    "\n",
    "plt.tight_layout()\n",
    "plt.show()"
   ]
  },
  {
   "cell_type": "markdown",
   "metadata": {},
   "source": [
    "### 4.1.3 Logarithmic transformations"
   ]
  },
  {
   "cell_type": "code",
   "execution_count": null,
   "metadata": {},
   "outputs": [],
   "source": [
    "# Create an log Look-Up Table (LUT)\n",
    "c = 255 / np.log(256)\n",
    "log_lut = np.array([c * np.log(1 + i) for i in range(256)], dtype = np.uint8)\n",
    "\n",
    "# Apply the log LUT to the image\n",
    "log_image = cv2.LUT(img, log_lut)\n",
    "\n",
    "# Plot the transformation function (LUT)\n",
    "plt.figure(figsize = (6, 6))\n",
    "plt.plot(log_lut, linewidth = 1.5)\n",
    "plt.title('Logarithmic Transformation Function', fontsize = FS)\n",
    "plt.xlim([0, 255])\n",
    "plt.ylim([0, 255])\n",
    "plt.grid(True)\n",
    "plt.xlabel('Input Intensity')\n",
    "plt.ylabel('Output Intensity')\n",
    "plt.axis('square')\n",
    "plt.show()\n",
    "\n",
    "# Display the original and transformed images\n",
    "plt.figure(figsize = (10, 5))\n",
    "plt.subplot(1, 2, 1)\n",
    "plt.imshow(img)\n",
    "plt.title('Original Image', fontsize = FS)\n",
    "plt.axis('off')\n",
    "\n",
    "plt.subplot(1, 2, 2)\n",
    "plt.imshow(log_image)\n",
    "plt.title('Logarithmic', fontsize = FS)\n",
    "plt.axis('off')\n",
    "\n",
    "plt.tight_layout()\n",
    "plt.show()"
   ]
  },
  {
   "cell_type": "markdown",
   "metadata": {},
   "source": [
    "### 4.1.4 Piecewise linear transformations"
   ]
  },
  {
   "cell_type": "code",
   "execution_count": null,
   "metadata": {},
   "outputs": [],
   "source": [
    "# Define the LUT (Look-Up Table) for piecewise linear transformation\n",
    "lut = np.zeros(256, dtype = np.uint8)\n",
    "lut[:101] = np.arange(0, 101) + 10\n",
    "lut[101: 201] = 150\n",
    "lut[201:] = (np.arange(201, 256) * 0.85).astype(np.uint8)\n",
    "\n",
    "# Apply the piecewise linear LUT to the image\n",
    "piecewise_image = cv2.LUT(img, lut)\n",
    "\n",
    "# Plot the transformation function (LUT)\n",
    "plt.figure(figsize = (6, 6))\n",
    "plt.plot(lut, linewidth = 1.5)\n",
    "plt.title('Piecewise Linear Transformation Function', fontsize = FS)\n",
    "plt.xlim([0, 255])\n",
    "plt.ylim([0, 255])\n",
    "plt.grid(True)\n",
    "plt.xlabel('Input Intensity')\n",
    "plt.ylabel('Output Intensity')\n",
    "plt.axis('square')\n",
    "plt.show()\n",
    "\n",
    "# Display the original and transformed images\n",
    "plt.figure(figsize = (10, 5))\n",
    "plt.subplot(1, 2, 1)\n",
    "plt.imshow(img)\n",
    "plt.title('Original Image', fontsize = FS)\n",
    "plt.axis('off')\n",
    "\n",
    "plt.subplot(1, 2, 2)\n",
    "plt.imshow(piecewise_image)\n",
    "plt.title('Piecewise linear', fontsize = FS)\n",
    "plt.axis('off')\n",
    "\n",
    "plt.tight_layout()\n",
    "plt.show()"
   ]
  },
  {
   "cell_type": "markdown",
   "metadata": {},
   "source": [
    "## 4.2 Noise reduction using image averaging"
   ]
  },
  {
   "cell_type": "code",
   "execution_count": null,
   "metadata": {},
   "outputs": [],
   "source": [
    "# Load the test image and convert to grayscale and double precision\n",
    "image = cv2.imread('quadnight.jfif', cv2.IMREAD_GRAYSCALE).astype(np.float64) / 255\n",
    "\n",
    "# Number of sample images for averaging\n",
    "num_images = [1, 2, 8, 16, 64, 128]\n",
    "\n",
    "plt.figure(figsize=(12, 6))\n",
    "\n",
    "for i, n in enumerate(num_images):\n",
    "    avg_image = np.zeros_like(image)  # Initialize an empty image for averaging\n",
    "\n",
    "    for _ in range(n):\n",
    "        # Add Gaussian noise to the image\n",
    "        noisy_image = image + np.random.normal(0, 0.4 ** 0.5, image.shape)\n",
    "        noisy_image = np.clip(noisy_image, 0, 1)  # Ensure pixel values are in range [0, 1]\n",
    "        avg_image += noisy_image\n",
    "\n",
    "    # Calculate the average image\n",
    "    avg_image /= n\n",
    "\n",
    "    # Plot the averaged image\n",
    "    plt.subplot(2, len(num_images) // 2, i + 1)\n",
    "    plt.imshow(avg_image, cmap = 'gray')\n",
    "    plt.title(f\"{n} image(s)\", fontsize = FS)\n",
    "    plt.axis('off')\n",
    "\n",
    "plt.tight_layout()\n",
    "plt.show()\n"
   ]
  },
  {
   "cell_type": "markdown",
   "metadata": {},
   "source": [
    "## 4.3 Histogram"
   ]
  },
  {
   "cell_type": "code",
   "execution_count": null,
   "metadata": {},
   "outputs": [],
   "source": [
    "# Read the image test\n",
    "img = cv2.imread('bay.jpg')\n",
    "\n",
    "hist = cv2.calcHist([img], [0], None, [256], [0, 256]).flatten()\n",
    "bins = np.arange(256)\n",
    "\n",
    "# Plot the original image and its histogram\n",
    "plt.figure(figsize=(12, 6))\n",
    "\n",
    "# Display the original image\n",
    "plt.subplot(1, 2, 1)\n",
    "plt.imshow(image, cmap = 'gray')\n",
    "plt.title('Original Image', fontsize = FS)\n",
    "plt.axis('off')\n",
    "\n",
    "# Display the histogram\n",
    "plt.subplot(1, 2, 2)\n",
    "plt.bar(bins, hist, width = 1, color = 'gray', edgecolor = 'black')\n",
    "plt.title('Histogram', fontsize = FS)\n",
    "plt.xlabel('Gray Level', fontsize = FS)\n",
    "plt.ylabel('Frequency', fontsize = FS)\n",
    "plt.grid(True)\n",
    "\n",
    "plt.tight_layout()\n",
    "plt.show()"
   ]
  }
 ],
 "metadata": {
  "kernelspec": {
   "display_name": "Python 3",
   "language": "python",
   "name": "python3"
  },
  "language_info": {
   "codemirror_mode": {
    "name": "ipython",
    "version": 3
   },
   "file_extension": ".py",
   "mimetype": "text/x-python",
   "name": "python",
   "nbconvert_exporter": "python",
   "pygments_lexer": "ipython3",
   "version": "3.12.6"
  }
 },
 "nbformat": 4,
 "nbformat_minor": 2
}
