{
 "cells": [
  {
   "cell_type": "markdown",
   "metadata": {},
   "source": [
    "# Exercise 6"
   ]
  },
  {
   "cell_type": "code",
   "execution_count": null,
   "metadata": {},
   "outputs": [],
   "source": [
    "import cv2\n",
    "import matplotlib.pyplot as plt\n",
    "import numpy as np\n",
    "from skimage.util import random_noise\n",
    "\n",
    "FS = 15 # Fontsize of caption"
   ]
  },
  {
   "cell_type": "markdown",
   "metadata": {},
   "source": [
    "## 6.1 Noise mean filtering"
   ]
  },
  {
   "cell_type": "code",
   "execution_count": null,
   "metadata": {},
   "outputs": [],
   "source": [
    "# Read the image test\n",
    "image = cv2.imread('coins.tif')\n",
    "\n",
    "# Add gaussian noise to the original image\n",
    "mean = 0\n",
    "variance = 0.05\n",
    "noise = np.random.normal(mean, np.sqrt(variance), image.shape)\n",
    "noisy_image = cv2.normalize(image + noise * 255, None, 0, 255, cv2.NORM_MINMAX).astype(np.uint8)\n",
    "\n",
    "# Apply an averaging filter with two different kernel sizes\n",
    "# a. Default kernel size 3x3\n",
    "kernel_3x3 = np.ones((3, 3), np.float32) / 9\n",
    "denoised_image_3x3 = cv2.filter2D(noisy_image, -1, kernel_3x3)\n",
    "\n",
    "# b. Defined kernel size 5x5\n",
    "kernel_5x5 = np.ones((5, 5), np.float32) / 25\n",
    "denoised_image_5x5 = cv2.filter2D(noisy_image, -1, kernel_5x5)\n",
    "\n",
    "# Plot images\n",
    "plt.figure(figsize=(12, 8))\n",
    "\n",
    "# Original image\n",
    "plt.subplot(2, 2, 1)\n",
    "plt.imshow(image)\n",
    "plt.title('Original Image', fontsize = FS)\n",
    "plt.axis('off')\n",
    "\n",
    "# Noisy image\n",
    "plt.subplot(2, 2, 2)\n",
    "plt.imshow(noisy_image)\n",
    "plt.title('Noisy Image', fontsize = FS)\n",
    "plt.axis('off')\n",
    "\n",
    "# Denoised with 3x3 kernel\n",
    "plt.subplot(2, 2, 3)\n",
    "plt.imshow(denoised_image_3x3)\n",
    "plt.title('Denoised with 3x3 Kernel', fontsize = FS)\n",
    "plt.axis('off')\n",
    "\n",
    "# Denoised with 5x5 kernel\n",
    "plt.subplot(2, 2, 4)\n",
    "plt.imshow(denoised_image_5x5)\n",
    "plt.title('Denoised with 5x5 Kernel', fontsize = FS)\n",
    "plt.axis('off')\n",
    "\n",
    "plt.tight_layout()\n",
    "plt.show()"
   ]
  },
  {
   "cell_type": "markdown",
   "metadata": {},
   "source": [
    "## 6.2 Noise salt/pepper filtering"
   ]
  },
  {
   "cell_type": "code",
   "execution_count": null,
   "metadata": {},
   "outputs": [],
   "source": [
    "# Load the original image\n",
    "image = cv2.imread('coins.tif', cv2.IMREAD_GRAYSCALE)\n",
    "fs = 15  # Font size for titles\n",
    "\n",
    "# Add salt and pepper noise to the original image\n",
    "salt_noise = random_noise(image, mode='salt', amount=0.02)  # Add salt noise\n",
    "pepper_noise = random_noise(image, mode='pepper', amount=0.02)  # Add pepper noise\n",
    "\n",
    "# Convert the noisy images to uint8 for processing\n",
    "salt_noise = (salt_noise * 255).astype(np.uint8)\n",
    "pepper_noise = (pepper_noise * 255).astype(np.uint8)\n",
    "\n",
    "# Denoise the images using minimum and maximum filters\n",
    "# Define the kernel size\n",
    "kernel_size = (4, 4)\n",
    "\n",
    "# Remove salt noise using a minimum filter\n",
    "denoised_salt = cv2.erode(salt_noise, np.ones(kernel_size, np.uint8))\n",
    "\n",
    "# Remove pepper noise using a maximum filter\n",
    "denoised_pepper = cv2.dilate(pepper_noise, np.ones(kernel_size, np.uint8))\n",
    "\n",
    "# Apply max filter to the salt noise image to simulate the \"wrong\" filter application\n",
    "wrong_denoised_salt = cv2.dilate(salt_noise, np.ones(kernel_size, np.uint8))\n",
    "\n",
    "# Plot the results\n",
    "plt.figure(figsize=(12, 8))\n",
    "\n",
    "# Original image\n",
    "plt.subplot(2, 3, 1)\n",
    "plt.imshow(image, cmap='gray')\n",
    "plt.title('Original Image', fontsize=fs)\n",
    "plt.axis('off')\n",
    "\n",
    "# Salt noise image\n",
    "plt.subplot(2, 3, 2)\n",
    "plt.imshow(salt_noise, cmap='gray')\n",
    "plt.title('Salt Noise Image', fontsize=fs)\n",
    "plt.axis('off')\n",
    "\n",
    "# Pepper noise image\n",
    "plt.subplot(2, 3, 3)\n",
    "plt.imshow(pepper_noise, cmap='gray')\n",
    "plt.title('Pepper Noise Image', fontsize=fs)\n",
    "plt.axis('off')\n",
    "\n",
    "# Salt noise denoised\n",
    "plt.subplot(2, 3, 4)\n",
    "plt.imshow(denoised_salt, cmap='gray')\n",
    "plt.title('Salt Denoised Image', fontsize=fs)\n",
    "plt.axis('off')\n",
    "\n",
    "# Pepper noise denoised\n",
    "plt.subplot(2, 3, 5)\n",
    "plt.imshow(denoised_pepper, cmap='gray')\n",
    "plt.title('Pepper Denoised Image', fontsize=fs)\n",
    "plt.axis('off')\n",
    "\n",
    "# Wrongly denoised salt noise image\n",
    "plt.subplot(2, 3, 6)\n",
    "plt.imshow(wrong_denoised_salt, cmap='gray')\n",
    "plt.title('Wrongly Denoised Salt', fontsize=fs)\n",
    "plt.axis('off')\n",
    "\n",
    "plt.tight_layout()\n",
    "plt.show()\n"
   ]
  }
 ],
 "metadata": {
  "kernelspec": {
   "display_name": "Python 3",
   "language": "python",
   "name": "python3"
  },
  "language_info": {
   "codemirror_mode": {
    "name": "ipython",
    "version": 3
   },
   "file_extension": ".py",
   "mimetype": "text/x-python",
   "name": "python",
   "nbconvert_exporter": "python",
   "pygments_lexer": "ipython3",
   "version": "3.12.6"
  }
 },
 "nbformat": 4,
 "nbformat_minor": 2
}
