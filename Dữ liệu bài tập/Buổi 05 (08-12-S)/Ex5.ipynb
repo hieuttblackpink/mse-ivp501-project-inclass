{
 "cells": [
  {
   "cell_type": "markdown",
   "metadata": {},
   "source": [
    "# Exercise 5"
   ]
  },
  {
   "cell_type": "code",
   "execution_count": 2,
   "metadata": {},
   "outputs": [],
   "source": [
    "import cv2\n",
    "import matplotlib.pyplot as plt\n",
    "import numpy as np\n",
    "\n",
    "FS = 15 # Fontsize of caption"
   ]
  },
  {
   "cell_type": "markdown",
   "metadata": {},
   "source": [
    "## 5.1 Global Histogram Equalization"
   ]
  },
  {
   "cell_type": "code",
   "execution_count": 3,
   "metadata": {},
   "outputs": [
    {
     "ename": "error",
     "evalue": "OpenCV(4.10.0) /Users/xperience/GHA-Actions-OpenCV/_work/opencv-python/opencv-python/opencv/modules/imgproc/src/histogram.cpp:3440: error: (-215:Assertion failed) _src.type() == CV_8UC1 in function 'equalizeHist'\n",
     "output_type": "error",
     "traceback": [
      "\u001b[0;31m---------------------------------------------------------------------------\u001b[0m",
      "\u001b[0;31merror\u001b[0m                                     Traceback (most recent call last)",
      "\u001b[1;32m/Users/hieutt/Library/CloudStorage/OneDrive-Personal/MSE - FPT/Fall 2024/IVP501/Project/In-class/Dữ liệu bài tập/Buổi 05 (08-12-S)/Ex5.ipynb Cell 4\u001b[0m line \u001b[0;36m8\n\u001b[1;32m      <a href='vscode-notebook-cell:/Users/hieutt/Library/CloudStorage/OneDrive-Personal/MSE%20-%20FPT/Fall%202024/IVP501/Project/In-class/D%E1%BB%AF%20li%E1%BB%87u%20b%C3%A0i%20t%E1%BA%ADp/Bu%E1%BB%95i%2005%20%2808-12-S%29/Ex5.ipynb#W3sZmlsZQ%3D%3D?line=4'>5</a>\u001b[0m hist_before, bins_before \u001b[39m=\u001b[39m np\u001b[39m.\u001b[39mhistogram(image\u001b[39m.\u001b[39mflatten(), bins \u001b[39m=\u001b[39m \u001b[39m256\u001b[39m, \u001b[39mrange\u001b[39m \u001b[39m=\u001b[39m [\u001b[39m0\u001b[39m, \u001b[39m256\u001b[39m])\n\u001b[1;32m      <a href='vscode-notebook-cell:/Users/hieutt/Library/CloudStorage/OneDrive-Personal/MSE%20-%20FPT/Fall%202024/IVP501/Project/In-class/D%E1%BB%AF%20li%E1%BB%87u%20b%C3%A0i%20t%E1%BA%ADp/Bu%E1%BB%95i%2005%20%2808-12-S%29/Ex5.ipynb#W3sZmlsZQ%3D%3D?line=6'>7</a>\u001b[0m \u001b[39m# Apply histogram equalization\u001b[39;00m\n\u001b[0;32m----> <a href='vscode-notebook-cell:/Users/hieutt/Library/CloudStorage/OneDrive-Personal/MSE%20-%20FPT/Fall%202024/IVP501/Project/In-class/D%E1%BB%AF%20li%E1%BB%87u%20b%C3%A0i%20t%E1%BA%ADp/Bu%E1%BB%95i%2005%20%2808-12-S%29/Ex5.ipynb#W3sZmlsZQ%3D%3D?line=7'>8</a>\u001b[0m equalized_image \u001b[39m=\u001b[39m cv2\u001b[39m.\u001b[39;49mequalizeHist(image)\n\u001b[1;32m     <a href='vscode-notebook-cell:/Users/hieutt/Library/CloudStorage/OneDrive-Personal/MSE%20-%20FPT/Fall%202024/IVP501/Project/In-class/D%E1%BB%AF%20li%E1%BB%87u%20b%C3%A0i%20t%E1%BA%ADp/Bu%E1%BB%95i%2005%20%2808-12-S%29/Ex5.ipynb#W3sZmlsZQ%3D%3D?line=9'>10</a>\u001b[0m \u001b[39m# Calculate histogram after equalization\u001b[39;00m\n\u001b[1;32m     <a href='vscode-notebook-cell:/Users/hieutt/Library/CloudStorage/OneDrive-Personal/MSE%20-%20FPT/Fall%202024/IVP501/Project/In-class/D%E1%BB%AF%20li%E1%BB%87u%20b%C3%A0i%20t%E1%BA%ADp/Bu%E1%BB%95i%2005%20%2808-12-S%29/Ex5.ipynb#W3sZmlsZQ%3D%3D?line=10'>11</a>\u001b[0m hist_after, bins_after \u001b[39m=\u001b[39m np\u001b[39m.\u001b[39mhistogram(equalized_image\u001b[39m.\u001b[39mflatten(), bins \u001b[39m=\u001b[39m \u001b[39m256\u001b[39m, \u001b[39mrange\u001b[39m \u001b[39m=\u001b[39m [\u001b[39m0\u001b[39m, \u001b[39m256\u001b[39m])\n",
      "\u001b[0;31merror\u001b[0m: OpenCV(4.10.0) /Users/xperience/GHA-Actions-OpenCV/_work/opencv-python/opencv-python/opencv/modules/imgproc/src/histogram.cpp:3440: error: (-215:Assertion failed) _src.type() == CV_8UC1 in function 'equalizeHist'\n"
     ]
    }
   ],
   "source": [
    "# Read the image test\n",
    "image = cv2.imread('moon.jpg')\n",
    "\n",
    "# Calculate histogram before equalization\n",
    "hist_before, bins_before = np.histogram(image.flatten(), bins = 256, range = [0, 256])\n",
    "\n",
    "# Apply histogram equalization\n",
    "equalized_image = cv2.equalizeHist(image)\n",
    "\n",
    "# Calculate histogram after equalization\n",
    "hist_after, bins_after = np.histogram(equalized_image.flatten(), bins = 256, range = [0, 256])\n",
    "\n",
    "# Plot original image and its histogram\n",
    "plt.figure(figsize=(12, 6))\n",
    "\n",
    "plt.subplot(2, 2, 1)\n",
    "plt.imshow(image)\n",
    "plt.title('Original Image', fontsize = FS)\n",
    "plt.axis('off')\n",
    "\n",
    "plt.subplot(2, 2, 2)\n",
    "plt.bar(bins_before[:-1], hist_before, width=1, color='gray', edgecolor='black')\n",
    "plt.title('Histogram Before Equalization', fontsize = FS)\n",
    "plt.xlabel('Gray Level', fontsize = FS)\n",
    "plt.ylabel('Frequency', fontsize = FS)\n",
    "plt.grid(True)\n",
    "\n",
    "# Plot equalized image and its histogram\n",
    "plt.subplot(2, 2, 3)\n",
    "plt.imshow(equalized_image)\n",
    "plt.title('Equalized Image', fontsize = FS)\n",
    "plt.axis('off')\n",
    "\n",
    "plt.subplot(2, 2, 4)\n",
    "plt.bar(bins_after[:-1], hist_after, width=1, color='gray', edgecolor='black')\n",
    "plt.title('Histogram After Equalization', fontsize = FS)\n",
    "plt.xlabel('Gray Level', fontsize = FS)\n",
    "plt.ylabel('Frequency', fontsize = FS)\n",
    "plt.grid(True)\n",
    "\n",
    "plt.tight_layout()\n",
    "plt.show()"
   ]
  }
 ],
 "metadata": {
  "kernelspec": {
   "display_name": "Python 3",
   "language": "python",
   "name": "python3"
  },
  "language_info": {
   "codemirror_mode": {
    "name": "ipython",
    "version": 3
   },
   "file_extension": ".py",
   "mimetype": "text/x-python",
   "name": "python",
   "nbconvert_exporter": "python",
   "pygments_lexer": "ipython3",
   "version": "3.12.6"
  }
 },
 "nbformat": 4,
 "nbformat_minor": 2
}
